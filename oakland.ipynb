{
 "cells": [
  {
   "cell_type": "code",
   "execution_count": 1,
   "metadata": {},
   "outputs": [
    {
     "data": {
      "text/html": [
       "<div>\n",
       "<style scoped>\n",
       "    .dataframe tbody tr th:only-of-type {\n",
       "        vertical-align: middle;\n",
       "    }\n",
       "\n",
       "    .dataframe tbody tr th {\n",
       "        vertical-align: top;\n",
       "    }\n",
       "\n",
       "    .dataframe thead th {\n",
       "        text-align: right;\n",
       "    }\n",
       "</style>\n",
       "<table border=\"1\" class=\"dataframe\">\n",
       "  <thead>\n",
       "    <tr style=\"text-align: right;\">\n",
       "      <th></th>\n",
       "      <th>Agency</th>\n",
       "      <th>Create Time</th>\n",
       "      <th>Location</th>\n",
       "      <th>Area Id</th>\n",
       "      <th>Beat</th>\n",
       "      <th>Priority</th>\n",
       "      <th>Incident Type Id</th>\n",
       "      <th>Incident Type Description</th>\n",
       "      <th>Event Number</th>\n",
       "      <th>Closed Time</th>\n",
       "    </tr>\n",
       "  </thead>\n",
       "  <tbody>\n",
       "    <tr>\n",
       "      <th>0</th>\n",
       "      <td>OP</td>\n",
       "      <td>2016-01-01T00:00:57.000</td>\n",
       "      <td>ST&amp;MARKET ST</td>\n",
       "      <td>P1</td>\n",
       "      <td>05X</td>\n",
       "      <td>2.0</td>\n",
       "      <td>415GS</td>\n",
       "      <td>415 GUNSHOTS</td>\n",
       "      <td>LOP160101000003</td>\n",
       "      <td>2016-01-01T00:32:30.000</td>\n",
       "    </tr>\n",
       "    <tr>\n",
       "      <th>1</th>\n",
       "      <td>OP</td>\n",
       "      <td>2016-01-01T00:01:25.000</td>\n",
       "      <td>AV&amp;HAMILTON ST</td>\n",
       "      <td>P3</td>\n",
       "      <td>26Y</td>\n",
       "      <td>2.0</td>\n",
       "      <td>415GS</td>\n",
       "      <td>415 GUNSHOTS</td>\n",
       "      <td>LOP160101000005</td>\n",
       "      <td>2016-01-01T00:48:23.000</td>\n",
       "    </tr>\n",
       "    <tr>\n",
       "      <th>2</th>\n",
       "      <td>OP</td>\n",
       "      <td>2016-01-01T00:01:43.000</td>\n",
       "      <td>ST&amp;CHESTNUT ST</td>\n",
       "      <td>P1</td>\n",
       "      <td>02X</td>\n",
       "      <td>2.0</td>\n",
       "      <td>415GS</td>\n",
       "      <td>415 GUNSHOTS</td>\n",
       "      <td>LOP160101000008</td>\n",
       "      <td>2016-01-01T00:21:24.000</td>\n",
       "    </tr>\n",
       "    <tr>\n",
       "      <th>3</th>\n",
       "      <td>OP</td>\n",
       "      <td>2016-01-01T00:01:48.000</td>\n",
       "      <td>WALLACE ST</td>\n",
       "      <td>P2</td>\n",
       "      <td>18Y</td>\n",
       "      <td>2.0</td>\n",
       "      <td>415GS</td>\n",
       "      <td>415 GUNSHOTS</td>\n",
       "      <td>LOP160101000007</td>\n",
       "      <td>2016-01-01T01:15:03.000</td>\n",
       "    </tr>\n",
       "    <tr>\n",
       "      <th>4</th>\n",
       "      <td>OP</td>\n",
       "      <td>2016-01-01T00:02:05.000</td>\n",
       "      <td>90TH AV</td>\n",
       "      <td>P3</td>\n",
       "      <td>34X</td>\n",
       "      <td>2.0</td>\n",
       "      <td>415GS</td>\n",
       "      <td>415 GUNSHOTS</td>\n",
       "      <td>LOP160101000009</td>\n",
       "      <td>2016-01-01T00:54:52.000</td>\n",
       "    </tr>\n",
       "  </tbody>\n",
       "</table>\n",
       "</div>"
      ],
      "text/plain": [
       "  Agency              Create Time             Location Area Id Beat  Priority  \\\n",
       "0     OP  2016-01-01T00:00:57.000     ST&MARKET ST          P1  05X       2.0   \n",
       "1     OP  2016-01-01T00:01:25.000   AV&HAMILTON ST          P3  26Y       2.0   \n",
       "2     OP  2016-01-01T00:01:43.000   ST&CHESTNUT ST          P1  02X       2.0   \n",
       "3     OP  2016-01-01T00:01:48.000       WALLACE ST          P2  18Y       2.0   \n",
       "4     OP  2016-01-01T00:02:05.000          90TH AV          P3  34X       2.0   \n",
       "\n",
       "  Incident Type Id Incident Type Description     Event Number  \\\n",
       "0            415GS              415 GUNSHOTS  LOP160101000003   \n",
       "1            415GS              415 GUNSHOTS  LOP160101000005   \n",
       "2            415GS              415 GUNSHOTS  LOP160101000008   \n",
       "3            415GS              415 GUNSHOTS  LOP160101000007   \n",
       "4            415GS              415 GUNSHOTS  LOP160101000009   \n",
       "\n",
       "               Closed Time  \n",
       "0  2016-01-01T00:32:30.000  \n",
       "1  2016-01-01T00:48:23.000  \n",
       "2  2016-01-01T00:21:24.000  \n",
       "3  2016-01-01T01:15:03.000  \n",
       "4  2016-01-01T00:54:52.000  "
      ]
     },
     "execution_count": 1,
     "metadata": {},
     "output_type": "execute_result"
    }
   ],
   "source": [
    "import pandas as pd\n",
    "import numpy as np\n",
    "\n",
    "data_frame = pd.read_csv('./records-for-2016.csv')\n",
    "#编写数据摘要\n",
    "data_frame.head()"
   ]
  },
  {
   "cell_type": "code",
   "execution_count": 2,
   "metadata": {},
   "outputs": [
    {
     "data": {
      "text/plain": [
       "Agency                        object\n",
       "Create Time                   object\n",
       "Location                      object\n",
       "Area Id                       object\n",
       "Beat                          object\n",
       "Priority                     float64\n",
       "Incident Type Id              object\n",
       "Incident Type Description     object\n",
       "Event Number                  object\n",
       "Closed Time                   object\n",
       "dtype: object"
      ]
     },
     "execution_count": 2,
     "metadata": {},
     "output_type": "execute_result"
    }
   ],
   "source": [
    "data_frame.dtypes"
   ]
  },
  {
   "cell_type": "markdown",
   "metadata": {},
   "source": [
    "# 统计标升属性的频数"
   ]
  },
  {
   "cell_type": "code",
   "execution_count": 5,
   "metadata": {},
   "outputs": [
    {
     "data": {
      "text/plain": [
       "OP    110827\n",
       "Name: Agency, dtype: int64"
      ]
     },
     "execution_count": 5,
     "metadata": {},
     "output_type": "execute_result"
    }
   ],
   "source": [
    "data_frame['Agency'].value_counts()"
   ]
  },
  {
   "cell_type": "code",
   "execution_count": 6,
   "metadata": {},
   "outputs": [
    {
     "data": {
      "text/plain": [
       "2016-05-06T11:21:13.000    3\n",
       "2016-06-02T21:40:23.000    2\n",
       "2016-06-17T01:00:06.000    2\n",
       "2016-05-29T01:59:56.000    2\n",
       "2016-06-29T21:41:52.000    2\n",
       "                          ..\n",
       "2016-02-24T17:12:59.000    1\n",
       "2016-01-01T07:12:36.000    1\n",
       "2016-04-07T21:04:47.000    1\n",
       "2016-02-21T12:50:56.000    1\n",
       "2016-02-24T14:37:34.000    1\n",
       "Name: Create Time, Length: 110453, dtype: int64"
      ]
     },
     "execution_count": 6,
     "metadata": {},
     "output_type": "execute_result"
    }
   ],
   "source": [
    "data_frame['Create Time'].value_counts()"
   ]
  },
  {
   "cell_type": "code",
   "execution_count": 7,
   "metadata": {},
   "outputs": [
    {
     "data": {
      "text/plain": [
       " INTERNATIONAL BLVD           2156\n",
       " AV&INTERNATIONAL BLVD        1829\n",
       " MACARTHUR BLVD               1813\n",
       " BROADWAY                     1472\n",
       " 7TH ST                       1223\n",
       "                              ... \n",
       "DOOLITTLE SUTER ST               1\n",
       "14TH SANTA RITA ST               1\n",
       "18TH ST&CHESTNUT ST              1\n",
       "E AV&DAVIS ST                    1\n",
       "72ND ST&JENSEN ST                1\n",
       "Name: Location, Length: 24046, dtype: int64"
      ]
     },
     "execution_count": 7,
     "metadata": {},
     "output_type": "execute_result"
    }
   ],
   "source": [
    "data_frame['Location'].value_counts()"
   ]
  },
  {
   "cell_type": "code",
   "execution_count": 8,
   "metadata": {},
   "outputs": [
    {
     "data": {
      "text/plain": [
       "P3     47425\n",
       "P1     41419\n",
       "P2     19610\n",
       "POU     2173\n",
       "PCW      194\n",
       "TEC        4\n",
       "JLS        1\n",
       "WAG        1\n",
       "Name: Area Id, dtype: int64"
      ]
     },
     "execution_count": 8,
     "metadata": {},
     "output_type": "execute_result"
    }
   ],
   "source": [
    "data_frame['Area Id'].value_counts()"
   ]
  },
  {
   "cell_type": "code",
   "execution_count": 9,
   "metadata": {},
   "outputs": [
    {
     "data": {
      "text/plain": [
       "04X     4515\n",
       "08X     3931\n",
       "26Y     3511\n",
       "30Y     3473\n",
       "19X     3455\n",
       "30X     3416\n",
       "03X     3195\n",
       "23X     3076\n",
       "34X     2857\n",
       "07X     2831\n",
       "20X     2702\n",
       "29X     2646\n",
       "06X     2580\n",
       "03Y     2562\n",
       "27Y     2517\n",
       "25X     2467\n",
       "31Y     2460\n",
       "27X     2333\n",
       "35X     2328\n",
       "32X     2316\n",
       "33X     2276\n",
       "09X     2158\n",
       "21Y     2100\n",
       "32Y     2093\n",
       "12Y     1987\n",
       "14X     1832\n",
       "26X     1766\n",
       "02X     1746\n",
       "24X     1704\n",
       "02Y     1659\n",
       "10Y     1573\n",
       "10X     1557\n",
       "22X     1541\n",
       "17Y     1482\n",
       "21X     1479\n",
       "24Y     1454\n",
       "31X     1439\n",
       "22Y     1420\n",
       "13Z     1397\n",
       "15X     1393\n",
       "05X     1342\n",
       "01X     1304\n",
       "12X     1299\n",
       "31Z     1268\n",
       "28X     1261\n",
       "11X     1208\n",
       "35Y     1159\n",
       "18Y     1102\n",
       "14Y     1027\n",
       "17X      969\n",
       "13Y      952\n",
       "16Y      907\n",
       "25Y      739\n",
       "18X      721\n",
       "16X      708\n",
       "13X      630\n",
       "05Y      408\n",
       "PDT2      16\n",
       "Name: Beat, dtype: int64"
      ]
     },
     "execution_count": 9,
     "metadata": {},
     "output_type": "execute_result"
    }
   ],
   "source": [
    "data_frame['Beat'].value_counts()"
   ]
  },
  {
   "cell_type": "code",
   "execution_count": 11,
   "metadata": {},
   "outputs": [
    {
     "data": {
      "text/plain": [
       "LOP160430000435    1\n",
       "LOP160407000839    1\n",
       "LOP160620000267    1\n",
       "LOP160706000141    1\n",
       "LOP160717000366    1\n",
       "                  ..\n",
       "LOP160211000630    1\n",
       "LOP160413001065    1\n",
       "LOP160619000165    1\n",
       "LOP160413001088    1\n",
       "LOP160103000328    1\n",
       "Name: Event Number, Length: 110827, dtype: int64"
      ]
     },
     "execution_count": 11,
     "metadata": {},
     "output_type": "execute_result"
    }
   ],
   "source": [
    "data_frame['Event Number'].value_counts()"
   ]
  },
  {
   "cell_type": "markdown",
   "metadata": {},
   "source": [
    "# 数值属性的五数概括"
   ]
  },
  {
   "cell_type": "code",
   "execution_count": 12,
   "metadata": {},
   "outputs": [
    {
     "data": {
      "text/html": [
       "<div>\n",
       "<style scoped>\n",
       "    .dataframe tbody tr th:only-of-type {\n",
       "        vertical-align: middle;\n",
       "    }\n",
       "\n",
       "    .dataframe tbody tr th {\n",
       "        vertical-align: top;\n",
       "    }\n",
       "\n",
       "    .dataframe thead th {\n",
       "        text-align: right;\n",
       "    }\n",
       "</style>\n",
       "<table border=\"1\" class=\"dataframe\">\n",
       "  <thead>\n",
       "    <tr style=\"text-align: right;\">\n",
       "      <th></th>\n",
       "      <th>Priority</th>\n",
       "    </tr>\n",
       "  </thead>\n",
       "  <tbody>\n",
       "    <tr>\n",
       "      <th>count</th>\n",
       "      <td>110827.000000</td>\n",
       "    </tr>\n",
       "    <tr>\n",
       "      <th>mean</th>\n",
       "      <td>1.778438</td>\n",
       "    </tr>\n",
       "    <tr>\n",
       "      <th>std</th>\n",
       "      <td>0.415299</td>\n",
       "    </tr>\n",
       "    <tr>\n",
       "      <th>min</th>\n",
       "      <td>1.000000</td>\n",
       "    </tr>\n",
       "    <tr>\n",
       "      <th>25%</th>\n",
       "      <td>2.000000</td>\n",
       "    </tr>\n",
       "    <tr>\n",
       "      <th>50%</th>\n",
       "      <td>2.000000</td>\n",
       "    </tr>\n",
       "    <tr>\n",
       "      <th>75%</th>\n",
       "      <td>2.000000</td>\n",
       "    </tr>\n",
       "    <tr>\n",
       "      <th>max</th>\n",
       "      <td>2.000000</td>\n",
       "    </tr>\n",
       "  </tbody>\n",
       "</table>\n",
       "</div>"
      ],
      "text/plain": [
       "            Priority\n",
       "count  110827.000000\n",
       "mean        1.778438\n",
       "std         0.415299\n",
       "min         1.000000\n",
       "25%         2.000000\n",
       "50%         2.000000\n",
       "75%         2.000000\n",
       "max         2.000000"
      ]
     },
     "execution_count": 12,
     "metadata": {},
     "output_type": "execute_result"
    }
   ],
   "source": [
    "number_data = ['Priority']\n",
    "data_frame[number_data].describe()"
   ]
  },
  {
   "cell_type": "code",
   "execution_count": 14,
   "metadata": {},
   "outputs": [
    {
     "data": {
      "text/plain": [
       "<AxesSubplot:>"
      ]
     },
     "execution_count": 14,
     "metadata": {},
     "output_type": "execute_result"
    },
    {
     "data": {
      "image/png": "[encoded data removed]",
      "text/plain": [
       "<Figure size 432x288 with 1 Axes>"
      ]
     },
     "metadata": {
      "needs_background": "light"
     },
     "output_type": "display_data"
    }
   ],
   "source": [
    "data_frame['Priority'].hist()"
   ]
  },
  {
   "cell_type": "markdown",
   "metadata": {},
   "source": [
    "# 绘制points的q-q图"
   ]
  },
  {
   "cell_type": "code",
   "execution_count": 16,
   "metadata": {},
   "outputs": [
    {
     "data": {
      "image/png": "[encoded data removed]",
      "text/plain": [
       "<Figure size 432x288 with 1 Axes>"
      ]
     },
     "metadata": {
      "needs_background": "light"
     },
     "output_type": "display_data"
    }
   ],
   "source": [
    "\n",
    "import statsmodels.api as sm\n",
    "import pylab\n",
    "\n",
    "sm.qqplot(data_frame['Priority'], line='s')\n",
    "pylab.show()"
   ]
  },
  {
   "cell_type": "markdown",
   "metadata": {},
   "source": [
    "# 绘制points的盒图,数据中只有0和1"
   ]
  },
  {
   "cell_type": "code",
   "execution_count": 17,
   "metadata": {},
   "outputs": [
    {
     "data": {
      "image/png": "[encoded data removed]",
      "text/plain": [
       "<Figure size 432x288 with 1 Axes>"
      ]
     },
     "metadata": {
      "needs_background": "light"
     },
     "output_type": "display_data"
    }
   ],
   "source": [
    "import matplotlib.pyplot as plt\n",
    "\n",
    "data_frame['Priority'].plot(kind='box', notch=True, grid=True)\n",
    "plt.show()"
   ]
  },
  {
   "cell_type": "markdown",
   "metadata": {},
   "source": [
    "# 缺失数据处理"
   ]
  },
  {
   "cell_type": "code",
   "execution_count": 18,
   "metadata": {},
   "outputs": [
    {
     "data": {
      "text/html": [
       "<div>\n",
       "<style scoped>\n",
       "    .dataframe tbody tr th:only-of-type {\n",
       "        vertical-align: middle;\n",
       "    }\n",
       "\n",
       "    .dataframe tbody tr th {\n",
       "        vertical-align: top;\n",
       "    }\n",
       "\n",
       "    .dataframe thead th {\n",
       "        text-align: right;\n",
       "    }\n",
       "</style>\n",
       "<table border=\"1\" class=\"dataframe\">\n",
       "  <thead>\n",
       "    <tr style=\"text-align: right;\">\n",
       "      <th></th>\n",
       "      <th>Agency</th>\n",
       "      <th>Create Time</th>\n",
       "      <th>Location</th>\n",
       "      <th>Area Id</th>\n",
       "      <th>Beat</th>\n",
       "      <th>Priority</th>\n",
       "      <th>Incident Type Id</th>\n",
       "      <th>Incident Type Description</th>\n",
       "      <th>Event Number</th>\n",
       "      <th>Closed Time</th>\n",
       "    </tr>\n",
       "  </thead>\n",
       "  <tbody>\n",
       "    <tr>\n",
       "      <th>Total</th>\n",
       "      <td>1</td>\n",
       "      <td>1</td>\n",
       "      <td>0</td>\n",
       "      <td>1</td>\n",
       "      <td>581</td>\n",
       "      <td>1</td>\n",
       "      <td>1</td>\n",
       "      <td>1</td>\n",
       "      <td>1</td>\n",
       "      <td>1</td>\n",
       "    </tr>\n",
       "    <tr>\n",
       "      <th>Percent</th>\n",
       "      <td>0.000902299</td>\n",
       "      <td>0.000902299</td>\n",
       "      <td>0</td>\n",
       "      <td>0.000902299</td>\n",
       "      <td>0.524236</td>\n",
       "      <td>0.000902299</td>\n",
       "      <td>0.000902299</td>\n",
       "      <td>0.000902299</td>\n",
       "      <td>0.000902299</td>\n",
       "      <td>0.000902299</td>\n",
       "    </tr>\n",
       "    <tr>\n",
       "      <th>Types</th>\n",
       "      <td>object</td>\n",
       "      <td>object</td>\n",
       "      <td>object</td>\n",
       "      <td>object</td>\n",
       "      <td>object</td>\n",
       "      <td>float64</td>\n",
       "      <td>object</td>\n",
       "      <td>object</td>\n",
       "      <td>object</td>\n",
       "      <td>object</td>\n",
       "    </tr>\n",
       "  </tbody>\n",
       "</table>\n",
       "</div>"
      ],
      "text/plain": [
       "              Agency  Create Time Location      Area Id      Beat  \\\n",
       "Total              1            1        0            1       581   \n",
       "Percent  0.000902299  0.000902299        0  0.000902299  0.524236   \n",
       "Types         object       object   object       object    object   \n",
       "\n",
       "            Priority Incident Type Id Incident Type Description Event Number  \\\n",
       "Total              1                1                         1            1   \n",
       "Percent  0.000902299      0.000902299               0.000902299  0.000902299   \n",
       "Types        float64           object                    object       object   \n",
       "\n",
       "         Closed Time  \n",
       "Total              1  \n",
       "Percent  0.000902299  \n",
       "Types         object  "
      ]
     },
     "execution_count": 18,
     "metadata": {},
     "output_type": "execute_result"
    }
   ],
   "source": [
    "def missing_data(data):\n",
    "    total = data.isnull().sum()\n",
    "    percent = (data.isnull().sum()/data.isnull().count()*100)\n",
    "    tt = pd.concat([total, percent], axis=1, keys=['Total', 'Percent'])\n",
    "    types = []\n",
    "    for col in data.columns:\n",
    "        dtype = str(data[col].dtype)\n",
    "        types.append(dtype)\n",
    "    tt['Types'] = types\n",
    "    return(np.transpose(tt))\n",
    "missing_data(data_frame)"
   ]
  },
  {
   "cell_type": "code",
   "execution_count": 22,
   "metadata": {},
   "outputs": [
    {
     "data": {
      "text/html": [
       "<div>\n",
       "<style scoped>\n",
       "    .dataframe tbody tr th:only-of-type {\n",
       "        vertical-align: middle;\n",
       "    }\n",
       "\n",
       "    .dataframe tbody tr th {\n",
       "        vertical-align: top;\n",
       "    }\n",
       "\n",
       "    .dataframe thead th {\n",
       "        text-align: right;\n",
       "    }\n",
       "</style>\n",
       "<table border=\"1\" class=\"dataframe\">\n",
       "  <thead>\n",
       "    <tr style=\"text-align: right;\">\n",
       "      <th></th>\n",
       "      <th>Agency</th>\n",
       "      <th>Create Time</th>\n",
       "      <th>Location</th>\n",
       "      <th>Area Id</th>\n",
       "      <th>Beat</th>\n",
       "      <th>Priority</th>\n",
       "      <th>Incident Type Id</th>\n",
       "      <th>Incident Type Description</th>\n",
       "      <th>Event Number</th>\n",
       "      <th>Closed Time</th>\n",
       "    </tr>\n",
       "  </thead>\n",
       "  <tbody>\n",
       "    <tr>\n",
       "      <th>0</th>\n",
       "      <td>OP</td>\n",
       "      <td>2016-01-01T00:00:57.000</td>\n",
       "      <td>ST&amp;MARKET ST</td>\n",
       "      <td>P1</td>\n",
       "      <td>05X</td>\n",
       "      <td>2.0</td>\n",
       "      <td>415GS</td>\n",
       "      <td>415 GUNSHOTS</td>\n",
       "      <td>LOP160101000003</td>\n",
       "      <td>2016-01-01T00:32:30.000</td>\n",
       "    </tr>\n",
       "    <tr>\n",
       "      <th>1</th>\n",
       "      <td>OP</td>\n",
       "      <td>2016-01-01T00:01:25.000</td>\n",
       "      <td>AV&amp;HAMILTON ST</td>\n",
       "      <td>P3</td>\n",
       "      <td>26Y</td>\n",
       "      <td>2.0</td>\n",
       "      <td>415GS</td>\n",
       "      <td>415 GUNSHOTS</td>\n",
       "      <td>LOP160101000005</td>\n",
       "      <td>2016-01-01T00:48:23.000</td>\n",
       "    </tr>\n",
       "    <tr>\n",
       "      <th>2</th>\n",
       "      <td>OP</td>\n",
       "      <td>2016-01-01T00:01:43.000</td>\n",
       "      <td>ST&amp;CHESTNUT ST</td>\n",
       "      <td>P1</td>\n",
       "      <td>02X</td>\n",
       "      <td>2.0</td>\n",
       "      <td>415GS</td>\n",
       "      <td>415 GUNSHOTS</td>\n",
       "      <td>LOP160101000008</td>\n",
       "      <td>2016-01-01T00:21:24.000</td>\n",
       "    </tr>\n",
       "    <tr>\n",
       "      <th>3</th>\n",
       "      <td>OP</td>\n",
       "      <td>2016-01-01T00:01:48.000</td>\n",
       "      <td>WALLACE ST</td>\n",
       "      <td>P2</td>\n",
       "      <td>18Y</td>\n",
       "      <td>2.0</td>\n",
       "      <td>415GS</td>\n",
       "      <td>415 GUNSHOTS</td>\n",
       "      <td>LOP160101000007</td>\n",
       "      <td>2016-01-01T01:15:03.000</td>\n",
       "    </tr>\n",
       "    <tr>\n",
       "      <th>4</th>\n",
       "      <td>OP</td>\n",
       "      <td>2016-01-01T00:02:05.000</td>\n",
       "      <td>90TH AV</td>\n",
       "      <td>P3</td>\n",
       "      <td>34X</td>\n",
       "      <td>2.0</td>\n",
       "      <td>415GS</td>\n",
       "      <td>415 GUNSHOTS</td>\n",
       "      <td>LOP160101000009</td>\n",
       "      <td>2016-01-01T00:54:52.000</td>\n",
       "    </tr>\n",
       "  </tbody>\n",
       "</table>\n",
       "</div>"
      ],
      "text/plain": [
       "  Agency              Create Time             Location Area Id Beat  Priority  \\\n",
       "0     OP  2016-01-01T00:00:57.000     ST&MARKET ST          P1  05X       2.0   \n",
       "1     OP  2016-01-01T00:01:25.000   AV&HAMILTON ST          P3  26Y       2.0   \n",
       "2     OP  2016-01-01T00:01:43.000   ST&CHESTNUT ST          P1  02X       2.0   \n",
       "3     OP  2016-01-01T00:01:48.000       WALLACE ST          P2  18Y       2.0   \n",
       "4     OP  2016-01-01T00:02:05.000          90TH AV          P3  34X       2.0   \n",
       "\n",
       "  Incident Type Id Incident Type Description     Event Number  \\\n",
       "0            415GS              415 GUNSHOTS  LOP160101000003   \n",
       "1            415GS              415 GUNSHOTS  LOP160101000005   \n",
       "2            415GS              415 GUNSHOTS  LOP160101000008   \n",
       "3            415GS              415 GUNSHOTS  LOP160101000007   \n",
       "4            415GS              415 GUNSHOTS  LOP160101000009   \n",
       "\n",
       "               Closed Time  \n",
       "0  2016-01-01T00:32:30.000  \n",
       "1  2016-01-01T00:48:23.000  \n",
       "2  2016-01-01T00:21:24.000  \n",
       "3  2016-01-01T01:15:03.000  \n",
       "4  2016-01-01T00:54:52.000  "
      ]
     },
     "execution_count": 22,
     "metadata": {},
     "output_type": "execute_result"
    }
   ],
   "source": [
    "del_df = data_frame.dropna()\n",
    "del_df.shape\n",
    "del_df.head()"
   ]
  },
  {
   "cell_type": "markdown",
   "metadata": {},
   "source": [
    "# 用最高频率值填充"
   ]
  },
  {
   "cell_type": "code",
   "execution_count": 24,
   "metadata": {},
   "outputs": [
    {
     "name": "stdout",
     "output_type": "stream",
     "text": [
      "OP <class 'str'>\n",
      "2016-05-06T11:21:13.000 <class 'str'>\n",
      " INTERNATIONAL BLVD     <class 'str'>\n",
      "P3 <class 'str'>\n",
      "04X <class 'str'>\n",
      "2.0 <class 'float'>\n",
      "933R <class 'str'>\n",
      "ALARM-RINGER <class 'str'>\n",
      "LOP160101000003 <class 'str'>\n",
      "2016-05-29T00:43:38.000 <class 'str'>\n"
     ]
    },
    {
     "data": {
      "text/html": [
       "<div>\n",
       "<style scoped>\n",
       "    .dataframe tbody tr th:only-of-type {\n",
       "        vertical-align: middle;\n",
       "    }\n",
       "\n",
       "    .dataframe tbody tr th {\n",
       "        vertical-align: top;\n",
       "    }\n",
       "\n",
       "    .dataframe thead th {\n",
       "        text-align: right;\n",
       "    }\n",
       "</style>\n",
       "<table border=\"1\" class=\"dataframe\">\n",
       "  <thead>\n",
       "    <tr style=\"text-align: right;\">\n",
       "      <th></th>\n",
       "      <th>Agency</th>\n",
       "      <th>Create Time</th>\n",
       "      <th>Location</th>\n",
       "      <th>Area Id</th>\n",
       "      <th>Beat</th>\n",
       "      <th>Priority</th>\n",
       "      <th>Incident Type Id</th>\n",
       "      <th>Incident Type Description</th>\n",
       "      <th>Event Number</th>\n",
       "      <th>Closed Time</th>\n",
       "    </tr>\n",
       "  </thead>\n",
       "  <tbody>\n",
       "    <tr>\n",
       "      <th>0</th>\n",
       "      <td>OP</td>\n",
       "      <td>2016-01-01T00:00:57.000</td>\n",
       "      <td>ST&amp;MARKET ST</td>\n",
       "      <td>P1</td>\n",
       "      <td>05X</td>\n",
       "      <td>2.0</td>\n",
       "      <td>415GS</td>\n",
       "      <td>415 GUNSHOTS</td>\n",
       "      <td>LOP160101000003</td>\n",
       "      <td>2016-01-01T00:32:30.000</td>\n",
       "    </tr>\n",
       "    <tr>\n",
       "      <th>1</th>\n",
       "      <td>OP</td>\n",
       "      <td>2016-01-01T00:01:25.000</td>\n",
       "      <td>AV&amp;HAMILTON ST</td>\n",
       "      <td>P3</td>\n",
       "      <td>26Y</td>\n",
       "      <td>2.0</td>\n",
       "      <td>415GS</td>\n",
       "      <td>415 GUNSHOTS</td>\n",
       "      <td>LOP160101000005</td>\n",
       "      <td>2016-01-01T00:48:23.000</td>\n",
       "    </tr>\n",
       "    <tr>\n",
       "      <th>2</th>\n",
       "      <td>OP</td>\n",
       "      <td>2016-01-01T00:01:43.000</td>\n",
       "      <td>ST&amp;CHESTNUT ST</td>\n",
       "      <td>P1</td>\n",
       "      <td>02X</td>\n",
       "      <td>2.0</td>\n",
       "      <td>415GS</td>\n",
       "      <td>415 GUNSHOTS</td>\n",
       "      <td>LOP160101000008</td>\n",
       "      <td>2016-01-01T00:21:24.000</td>\n",
       "    </tr>\n",
       "    <tr>\n",
       "      <th>3</th>\n",
       "      <td>OP</td>\n",
       "      <td>2016-01-01T00:01:48.000</td>\n",
       "      <td>WALLACE ST</td>\n",
       "      <td>P2</td>\n",
       "      <td>18Y</td>\n",
       "      <td>2.0</td>\n",
       "      <td>415GS</td>\n",
       "      <td>415 GUNSHOTS</td>\n",
       "      <td>LOP160101000007</td>\n",
       "      <td>2016-01-01T01:15:03.000</td>\n",
       "    </tr>\n",
       "    <tr>\n",
       "      <th>4</th>\n",
       "      <td>OP</td>\n",
       "      <td>2016-01-01T00:02:05.000</td>\n",
       "      <td>90TH AV</td>\n",
       "      <td>P3</td>\n",
       "      <td>34X</td>\n",
       "      <td>2.0</td>\n",
       "      <td>415GS</td>\n",
       "      <td>415 GUNSHOTS</td>\n",
       "      <td>LOP160101000009</td>\n",
       "      <td>2016-01-01T00:54:52.000</td>\n",
       "    </tr>\n",
       "  </tbody>\n",
       "</table>\n",
       "</div>"
      ],
      "text/plain": [
       "  Agency              Create Time             Location Area Id Beat  Priority  \\\n",
       "0     OP  2016-01-01T00:00:57.000     ST&MARKET ST          P1  05X       2.0   \n",
       "1     OP  2016-01-01T00:01:25.000   AV&HAMILTON ST          P3  26Y       2.0   \n",
       "2     OP  2016-01-01T00:01:43.000   ST&CHESTNUT ST          P1  02X       2.0   \n",
       "3     OP  2016-01-01T00:01:48.000       WALLACE ST          P2  18Y       2.0   \n",
       "4     OP  2016-01-01T00:02:05.000          90TH AV          P3  34X       2.0   \n",
       "\n",
       "  Incident Type Id Incident Type Description     Event Number  \\\n",
       "0            415GS              415 GUNSHOTS  LOP160101000003   \n",
       "1            415GS              415 GUNSHOTS  LOP160101000005   \n",
       "2            415GS              415 GUNSHOTS  LOP160101000008   \n",
       "3            415GS              415 GUNSHOTS  LOP160101000007   \n",
       "4            415GS              415 GUNSHOTS  LOP160101000009   \n",
       "\n",
       "               Closed Time  \n",
       "0  2016-01-01T00:32:30.000  \n",
       "1  2016-01-01T00:48:23.000  \n",
       "2  2016-01-01T00:21:24.000  \n",
       "3  2016-01-01T01:15:03.000  \n",
       "4  2016-01-01T00:54:52.000  "
      ]
     },
     "execution_count": 24,
     "metadata": {},
     "output_type": "execute_result"
    }
   ],
   "source": [
    "from collections import Counter\n",
    "from math import isnan\n",
    "\n",
    "miss_features = ['Agency','Create Time','Location','Area Id', 'Beat','Priority','Incident Type Id','Incident Type Description','Event Number','Closed Time']\n",
    "fill_df = data_frame\n",
    "\n",
    "for col in miss_features:\n",
    "    word_counts = Counter(fill_df[col])\n",
    "    top = word_counts.most_common(1)[0][0]\n",
    "    if type(top) != str:\n",
    "        if isnan(top):\n",
    "            top = word_counts.most_common(2)[1][0]\n",
    "    print(top, type(top))\n",
    "    temp = fill_df[col].fillna(top)\n",
    "    fill_df[col] = temp\n",
    "fill_df.head()"
   ]
  },
  {
   "cell_type": "code",
   "execution_count": 25,
   "metadata": {},
   "outputs": [
    {
     "data": {
      "text/html": [
       "<div>\n",
       "<style scoped>\n",
       "    .dataframe tbody tr th:only-of-type {\n",
       "        vertical-align: middle;\n",
       "    }\n",
       "\n",
       "    .dataframe tbody tr th {\n",
       "        vertical-align: top;\n",
       "    }\n",
       "\n",
       "    .dataframe thead th {\n",
       "        text-align: right;\n",
       "    }\n",
       "</style>\n",
       "<table border=\"1\" class=\"dataframe\">\n",
       "  <thead>\n",
       "    <tr style=\"text-align: right;\">\n",
       "      <th></th>\n",
       "      <th>Agency</th>\n",
       "      <th>Create Time</th>\n",
       "      <th>Location</th>\n",
       "      <th>Area Id</th>\n",
       "      <th>Beat</th>\n",
       "      <th>Priority</th>\n",
       "      <th>Incident Type Id</th>\n",
       "      <th>Incident Type Description</th>\n",
       "      <th>Event Number</th>\n",
       "      <th>Closed Time</th>\n",
       "    </tr>\n",
       "  </thead>\n",
       "  <tbody>\n",
       "    <tr>\n",
       "      <th>Total</th>\n",
       "      <td>0</td>\n",
       "      <td>0</td>\n",
       "      <td>0</td>\n",
       "      <td>0</td>\n",
       "      <td>0</td>\n",
       "      <td>0</td>\n",
       "      <td>0</td>\n",
       "      <td>0</td>\n",
       "      <td>0</td>\n",
       "      <td>0</td>\n",
       "    </tr>\n",
       "    <tr>\n",
       "      <th>Percent</th>\n",
       "      <td>0</td>\n",
       "      <td>0</td>\n",
       "      <td>0</td>\n",
       "      <td>0</td>\n",
       "      <td>0</td>\n",
       "      <td>0</td>\n",
       "      <td>0</td>\n",
       "      <td>0</td>\n",
       "      <td>0</td>\n",
       "      <td>0</td>\n",
       "    </tr>\n",
       "    <tr>\n",
       "      <th>Types</th>\n",
       "      <td>object</td>\n",
       "      <td>object</td>\n",
       "      <td>object</td>\n",
       "      <td>object</td>\n",
       "      <td>object</td>\n",
       "      <td>float64</td>\n",
       "      <td>object</td>\n",
       "      <td>object</td>\n",
       "      <td>object</td>\n",
       "      <td>object</td>\n",
       "    </tr>\n",
       "  </tbody>\n",
       "</table>\n",
       "</div>"
      ],
      "text/plain": [
       "         Agency Create Time Location Area Id    Beat Priority  \\\n",
       "Total         0           0        0       0       0        0   \n",
       "Percent       0           0        0       0       0        0   \n",
       "Types    object      object   object  object  object  float64   \n",
       "\n",
       "        Incident Type Id Incident Type Description Event Number Closed Time  \n",
       "Total                  0                         0            0           0  \n",
       "Percent                0                         0            0           0  \n",
       "Types             object                    object       object      object  "
      ]
     },
     "execution_count": 25,
     "metadata": {},
     "output_type": "execute_result"
    }
   ],
   "source": [
    "missing_data(fill_df)"
   ]
  },
  {
   "cell_type": "markdown",
   "metadata": {},
   "source": [
    "# 通过属性相关关系填充"
   ]
  },
  {
   "cell_type": "code",
   "execution_count": 28,
   "metadata": {},
   "outputs": [
    {
     "data": {
      "text/html": [
       "<div>\n",
       "<style scoped>\n",
       "    .dataframe tbody tr th:only-of-type {\n",
       "        vertical-align: middle;\n",
       "    }\n",
       "\n",
       "    .dataframe tbody tr th {\n",
       "        vertical-align: top;\n",
       "    }\n",
       "\n",
       "    .dataframe thead th {\n",
       "        text-align: right;\n",
       "    }\n",
       "</style>\n",
       "<table border=\"1\" class=\"dataframe\">\n",
       "  <thead>\n",
       "    <tr style=\"text-align: right;\">\n",
       "      <th></th>\n",
       "      <th>Priority</th>\n",
       "    </tr>\n",
       "  </thead>\n",
       "  <tbody>\n",
       "    <tr>\n",
       "      <th>Priority</th>\n",
       "      <td>1.0</td>\n",
       "    </tr>\n",
       "  </tbody>\n",
       "</table>\n",
       "</div>"
      ],
      "text/plain": [
       "          Priority\n",
       "Priority       1.0"
      ]
     },
     "execution_count": 28,
     "metadata": {},
     "output_type": "execute_result"
    }
   ],
   "source": [
    "data_frame.corr()"
   ]
  },
  {
   "cell_type": "code",
   "execution_count": 29,
   "metadata": {},
   "outputs": [
    {
     "data": {
      "text/html": [
       "<div>\n",
       "<style scoped>\n",
       "    .dataframe tbody tr th:only-of-type {\n",
       "        vertical-align: middle;\n",
       "    }\n",
       "\n",
       "    .dataframe tbody tr th {\n",
       "        vertical-align: top;\n",
       "    }\n",
       "\n",
       "    .dataframe thead th {\n",
       "        text-align: right;\n",
       "    }\n",
       "</style>\n",
       "<table border=\"1\" class=\"dataframe\">\n",
       "  <thead>\n",
       "    <tr style=\"text-align: right;\">\n",
       "      <th></th>\n",
       "      <th>Priority</th>\n",
       "    </tr>\n",
       "  </thead>\n",
       "  <tbody>\n",
       "    <tr>\n",
       "      <th>Priority</th>\n",
       "      <td>1.0</td>\n",
       "    </tr>\n",
       "  </tbody>\n",
       "</table>\n",
       "</div>"
      ],
      "text/plain": [
       "          Priority\n",
       "Priority       1.0"
      ]
     },
     "execution_count": 29,
     "metadata": {},
     "output_type": "execute_result"
    }
   ],
   "source": [
    "data_frame.corr('spearman')"
   ]
  }
 ],
 "metadata": {
  "kernelspec": {
   "display_name": "Python 3",
   "language": "python",
   "name": "python3"
  },
  "language_info": {
   "codemirror_mode": {
    "name": "ipython",
    "version": 3
   },
   "file_extension": ".py",
   "mimetype": "text/x-python",
   "name": "python",
   "nbconvert_exporter": "python",
   "pygments_lexer": "ipython3",
   "version": "3.7.0"
  }
 },
 "nbformat": 4,
 "nbformat_minor": 4
}
